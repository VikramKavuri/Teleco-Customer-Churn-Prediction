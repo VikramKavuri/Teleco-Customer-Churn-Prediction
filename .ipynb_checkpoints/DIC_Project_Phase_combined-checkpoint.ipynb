{
 "cells": [
  {
   "cell_type": "code",
   "execution_count": null,
   "id": "b631dd83",
   "metadata": {
    "id": "b631dd83"
   },
   "outputs": [],
   "source": [
    "import pandas as pd\n",
    "import csv\n",
    "import re\n",
    "import numpy as np\n",
    "import matplotlib.pyplot as plt"
   ]
  },
  {
   "cell_type": "code",
   "execution_count": null,
   "id": "127fb85c",
   "metadata": {
    "colab": {
     "base_uri": "https://localhost:8080/",
     "height": 694
    },
    "id": "127fb85c",
    "outputId": "75e7e3f2-3767-4b0b-f498-a0cee1a83949"
   },
   "outputs": [],
   "source": [
    "df = pd.read_excel(\"Telco_customer_churn.xlsx\")\n",
    "total_df=pd.read_excel('Telco_customer_churn.xlsx')\n",
    "work_df = df.copy()\n",
    "work_df"
   ]
  },
  {
   "cell_type": "code",
   "execution_count": null,
   "id": "51fd324f",
   "metadata": {},
   "outputs": [],
   "source": [
    "import re"
   ]
  },
  {
   "cell_type": "code",
   "execution_count": null,
   "id": "aa853bb8",
   "metadata": {
    "colab": {
     "base_uri": "https://localhost:8080/",
     "height": 660
    },
    "id": "aa853bb8",
    "outputId": "59b0cfa0-7bf9-4990-bcd7-40cc72cf1730"
   },
   "outputs": [],
   "source": [
    "# Formating _columns names into snake case\n",
    "def camel_to_snake(name):\n",
    "    name = name.replace(' ', '_')\n",
    "    s1 = re.sub('(.)([A-Z][a-z]+)', r'\\1\\2', name)\n",
    "    return re.sub('([a-z0-9])([A-Z])', r'\\1\\2', s1).lower()\n",
    "\n",
    "# Example: Convert camel case column names with spaces to lowercase with underscores\n",
    "camel_case_columns = work_df.columns\n",
    "snake_case_columns = [camel_to_snake(col) for col in camel_case_columns]\n",
    "\n",
    "#work_df.rename(columns=snake_case_columns, inplace=True)\n",
    "work_df.set_axis(snake_case_columns, axis=1, inplace=True)\n",
    "work_df"
   ]
  },
  {
   "cell_type": "code",
   "execution_count": null,
   "id": "48d17f3a",
   "metadata": {
    "colab": {
     "base_uri": "https://localhost:8080/",
     "height": 98
    },
    "id": "48d17f3a",
    "outputId": "9d9a11aa-46a0-4482-bbcc-97ee0cdff5c5",
    "scrolled": true
   },
   "outputs": [],
   "source": [
    "# Consistency in data\n",
    "work_df[(work_df['latitude'] < -90) | (work_df['latitude'] > 90)]\n",
    "\n",
    "work_df[(work_df['longitude'] < -180) | (work_df['longitude'] > 180)]"
   ]
  },
  {
   "cell_type": "code",
   "execution_count": null,
   "id": "c207cd47",
   "metadata": {
    "id": "c207cd47"
   },
   "outputs": [],
   "source": [
    "# 1 changing Data Types\n",
    "work_df['total_charges'] = pd.to_numeric(work_df['total_charges'], errors='coerce')"
   ]
  },
  {
   "cell_type": "code",
   "execution_count": null,
   "id": "7f1298b3",
   "metadata": {
    "colab": {
     "base_uri": "https://localhost:8080/"
    },
    "id": "7f1298b3",
    "outputId": "ecacddce-35df-46fc-a3b1-329f1ae06993"
   },
   "outputs": [],
   "source": [
    "# 2 Checking Nulls\n",
    "work_df.isnull().sum()"
   ]
  },
  {
   "cell_type": "code",
   "execution_count": null,
   "id": "b37d0ae0",
   "metadata": {
    "id": "b37d0ae0"
   },
   "outputs": [],
   "source": [
    "# handling nulls\n",
    "work_df = work_df.dropna(subset=['total_charges'])\n",
    "work_df = work_df.drop(['churn_reason'], axis = 1)"
   ]
  },
  {
   "cell_type": "code",
   "execution_count": null,
   "id": "9616e3af",
   "metadata": {
    "id": "9616e3af"
   },
   "outputs": [],
   "source": [
    "# Removing LatLong Column\n",
    "work_df = work_df.drop('lat_long',axis = 1)"
   ]
  },
  {
   "cell_type": "code",
   "execution_count": null,
   "id": "82a9b3c9",
   "metadata": {
    "colab": {
     "base_uri": "https://localhost:8080/"
    },
    "id": "82a9b3c9",
    "outputId": "e385c294-bddd-4b89-f58a-e92b3ffd880a"
   },
   "outputs": [],
   "source": [
    "#  checking for duplicates\n",
    "duplicates = work_df.duplicated()\n",
    "duplicates.unique()"
   ]
  },
  {
   "cell_type": "code",
   "execution_count": null,
   "id": "09717265",
   "metadata": {
    "id": "09717265"
   },
   "outputs": [],
   "source": [
    "# categorical to numerical\n",
    "def convert_cat_num(work_df):\n",
    "    work_df['gender'] = work_df[\"gender\"].map({'Male':0,'Female':1})\n",
    "    work_df['senior_citizen'] = work_df[\"senior_citizen\"].map({'Yes':1,'No':0})\n",
    "    work_df['partner'] = work_df['partner'].map({'Yes':1,'No':0})\n",
    "    work_df['dependents'] = work_df.dependents.map({'Yes':1,'No':0})\n",
    "    work_df['phone_service'] = work_df[\"phone_service\"].map({'Yes':1,'No':0})\n",
    "    work_df['multiple_lines'] = work_df[\"multiple_lines\"].map({'Yes':1,'No':0,'No phone service':0})\n",
    "    work_df[\"internet_service\"] = work_df[\"internet_service\"].map({'DSL':1,'Fiber optic':1,'No':0})\n",
    "    work_df['online_security'] = work_df[\"online_security\"].map({'Yes':1,'No':0,'No internet service':0})\n",
    "    work_df['online_backup'] = work_df[\"online_backup\"].map({'Yes':1,'No':0,'No internet service':0})\n",
    "    work_df['paperless_billing'] = work_df[\"paperless_billing\"].map({'Yes':1,'No':0})\n",
    "    work_df['tech_support'] = work_df[\"tech_support\"].map({'Yes':1,'No':0,'No internet service':0})\n",
    "    work_df['streaming_tv'] = work_df[\"streaming_tv\"].map({'Yes':1,'No':0,'No internet service':0})\n",
    "    work_df['streaming_movies'] = work_df[\"streaming_movies\"].map({'Yes':1,'No':0,'No internet service':0})\n",
    "    work_df['device_protection'] = work_df[\"device_protection\"].map({'Yes':1,'No':0,'No internet service':0})\n",
    "    work_df[\"contract\"] = work_df[\"contract\"].map({'Month-to-month':0, 'Two year':2, 'One year':1})\n",
    "    work_df[\"payment_method\"] = work_df[\"payment_method\"].map({'Electronic check': 1, 'Bank transfer (automatic)': 2, 'Credit card (automatic)': 0, 'Mailed check': 3})\n",
    "    work_df['churn_label'] = work_df[\"churn_label\"].map({'Yes':1,'No':0})\n",
    "    return work_df\n",
    "convert_cat_num(work_df)"
   ]
  },
  {
   "cell_type": "code",
   "execution_count": null,
   "id": "ZkkuctULKk73",
   "metadata": {
    "id": "ZkkuctULKk73"
   },
   "outputs": [],
   "source": [
    "work_df['churn_label'] = work_df[\"churn_label\"].map({'Yes':1,'No':0})"
   ]
  },
  {
   "cell_type": "code",
   "execution_count": null,
   "id": "edd25184",
   "metadata": {
    "colab": {
     "base_uri": "https://localhost:8080/",
     "height": 1000
    },
    "id": "edd25184",
    "outputId": "7451020a-1c59-4631-fe8f-80c2420c2233"
   },
   "outputs": [],
   "source": [
    "\n",
    "for column in work_df.columns:\n",
    "    print(column , work_df[column].unique())\n",
    "#Since we have one unique value in it we can remove count, country, state\n",
    "# And we can retreive country and state from zip code and latitude, longitude data, we can remove country, state\n",
    "work_df=work_df.drop(['count','country','state'],axis=1)\n",
    "work_df"
   ]
  },
  {
   "cell_type": "code",
   "execution_count": null,
   "id": "a4abef4d",
   "metadata": {
    "colab": {
     "base_uri": "https://localhost:8080/",
     "height": 419
    },
    "id": "a4abef4d",
    "outputId": "c7edd1a5-fb84-4514-9908-e07d4c7d067f"
   },
   "outputs": [],
   "source": [
    "# Outlier treatment\n",
    "# As dont have mostly categorical data and which looks fine with 0,1 as unique values\n",
    "# So, we have decided to do outlier treatment on numerical data which is in 3 columns only\n",
    "# After plotting zscore and setting the threshold to 3\n",
    "# A z-score of 3 corresponds to a data point being significantly different from the mean. In a normal distribution, approximately 99.7% of the data falls within three standard deviations of the mean. This means that only about 0.3% of the data is expected to have z-scores beyond 3. Therefore, it is considered a stringent threshold for identifying extreme values.\n",
    "# we see there is no data with zscore > 3\n",
    "from scipy.stats import zscore\n",
    "from scipy.stats import ttest_ind\n",
    "\n",
    "z_scores = zscore(work_df[['tenure_months','total_charges','monthly_charges']])\n",
    "cleaned_data = work_df[['tenure_months','total_charges','monthly_charges']][~(z_scores > 3)]\n",
    "cleaned_data"
   ]
  },
  {
   "cell_type": "code",
   "execution_count": null,
   "id": "7d390aea",
   "metadata": {
    "colab": {
     "base_uri": "https://localhost:8080/",
     "height": 592
    },
    "id": "7d390aea",
    "outputId": "7eb4f85f-79ba-4381-963a-be81d21c3647"
   },
   "outputs": [],
   "source": [
    "#Restting the index\n",
    "df = work_df.reset_index(drop=True)\n",
    "df"
   ]
  },
  {
   "cell_type": "code",
   "execution_count": null,
   "id": "a5cad277",
   "metadata": {
    "colab": {
     "base_uri": "https://localhost:8080/"
    },
    "id": "a5cad277",
    "outputId": "a74855b7-e16f-4109-a115-9d14dbcb2b4c"
   },
   "outputs": [],
   "source": [
    "work_df.shape"
   ]
  },
  {
   "cell_type": "code",
   "execution_count": null,
   "id": "df34c557",
   "metadata": {
    "colab": {
     "base_uri": "https://localhost:8080/"
    },
    "id": "df34c557",
    "outputId": "944d4012-7b68-4aca-8260-e065d5c99319"
   },
   "outputs": [],
   "source": [
    "total_df.shape"
   ]
  },
  {
   "cell_type": "code",
   "execution_count": null,
   "id": "0bcc39e0",
   "metadata": {
    "colab": {
     "base_uri": "https://localhost:8080/",
     "height": 317
    },
    "id": "0bcc39e0",
    "outputId": "47f8ee91-7439-4436-ba43-b38f62ba4d88"
   },
   "outputs": [],
   "source": [
    "work_df[['tenure_months','monthly_charges','total_charges','latitude','longitude','churn_score', 'cltv']].describe()"
   ]
  },
  {
   "cell_type": "code",
   "execution_count": null,
   "id": "06e618bd",
   "metadata": {
    "colab": {
     "base_uri": "https://localhost:8080/"
    },
    "id": "06e618bd",
    "outputId": "ec42d430-224a-469b-ec04-4be5498bf674"
   },
   "outputs": [],
   "source": [
    "cat_col_list=['gender',\n",
    "       'senior_citizen', 'partner', 'dependents',\n",
    "       'phone_service', 'multiple_lines', 'internet_service',\n",
    "       'online_security', 'online_backup', 'device_protection', 'tech_support',\n",
    "       'streaming_tv', 'streaming_movies', 'contract', 'paperless_billing',\n",
    "       'payment_method', 'churn_label',\n",
    "       'churn_value']\n",
    "for i in cat_col_list :\n",
    "    relative_frequencies = work_df[i].value_counts(normalize=True)\n",
    "    print(relative_frequencies)\n",
    "    print(\"______________________________________________________\")"
   ]
  },
  {
   "cell_type": "code",
   "execution_count": null,
   "id": "bd662849",
   "metadata": {
    "colab": {
     "base_uri": "https://localhost:8080/"
    },
    "id": "bd662849",
    "outputId": "04e64ccb-0ac0-4c73-b2ac-c54ecc777256"
   },
   "outputs": [],
   "source": [
    "# Spread of data\n",
    "col_list = ['tenure_months','total_charges','monthly_charges']\n",
    "for col in col_list :\n",
    "    range_values = work_df[col].max() - work_df[col].min()\n",
    "    print(col, range_values)"
   ]
  },
  {
   "cell_type": "code",
   "execution_count": null,
   "id": "be94d679",
   "metadata": {
    "colab": {
     "base_uri": "https://localhost:8080/",
     "height": 780
    },
    "id": "be94d679",
    "outputId": "c382bd1e-7f43-48a3-aa4d-c03a83cc2c9c"
   },
   "outputs": [],
   "source": [
    "# Univariate Analysis\n",
    "import seaborn as sns\n",
    "col_list = ['State', 'City', 'Zip Code',\n",
    "       'Lat Long', 'Latitude', 'Longitude', 'Gender', 'Senior Citizen',\n",
    "       'Partner', 'Dependents', 'Tenure Months', 'Phone Service',\n",
    "       'Multiple Lines', 'Internet Service', 'Online Security',\n",
    "       'Online Backup', 'Device Protection', 'Tech Support', 'Streaming TV',\n",
    "       'Streaming Movies', 'Contract', 'Paperless Billing', 'Payment Method',\n",
    "       'Monthly Charges','Churn Label']\n",
    "fig = plt.figure(figsize = (25, 25))\n",
    "i=1\n",
    "for col in col_list:\n",
    "    plt.subplot(5, 5, i)\n",
    "    sns.histplot(x=total_df[col])\n",
    "    i+=1\n",
    "plt.show()"
   ]
  },
  {
   "cell_type": "code",
   "execution_count": null,
   "id": "a3a7711f",
   "metadata": {
    "id": "a3a7711f"
   },
   "outputs": [],
   "source": [
    "# Variant analysis with target\n",
    "fig = plt.figure(figsize = (25, 25))\n",
    "col_list = [ 'city', 'zip_code', 'gender', 'senior_citizen', 'partner',\n",
    "       'dependents', 'tenure_months', 'phone_service', 'multiple_lines',\n",
    "       'internet_service', 'online_security', 'online_backup',\n",
    "       'device_protection', 'tech_support', 'streaming_tv', 'streaming_movies',\n",
    "       'contract', 'paperless_billing', 'payment_method', 'monthly_charges',\n",
    "       'total_charges','churn_value', 'cltv','churn_label']\n",
    "data_cat=work_df[col_list]\n",
    "i=1\n",
    "for x in col_list[:-1]:\n",
    "    plt.subplot(5, 5, i)\n",
    "    ax=sns.countplot(data =data_cat , x = data_cat[x], hue ='churn_label', palette = [\"#95BEDD\", '#FF5959'])\n",
    "    ax.set(xlabel = None, ylabel = None)\n",
    "    plt.title(str(x), loc='center')\n",
    "    i+=1\n",
    "plt.show()"
   ]
  },
  {
   "cell_type": "code",
   "execution_count": null,
   "id": "c9e39062",
   "metadata": {
    "colab": {
     "base_uri": "https://localhost:8080/",
     "height": 352
    },
    "id": "c9e39062",
    "outputId": "f69f1ca1-2aac-4a4e-e9f1-445970645e64"
   },
   "outputs": [],
   "source": [
    "plt.figure(figsize=(20,5))\n",
    "sns.lineplot(x=work_df['tenure_months'], y=work_df['total_charges'], hue=df['internet_service'],\n",
    "             ci=None, palette='viridis')"
   ]
  },
  {
   "cell_type": "code",
   "execution_count": null,
   "id": "c01183fd",
   "metadata": {
    "colab": {
     "base_uri": "https://localhost:8080/",
     "height": 352
    },
    "id": "c01183fd",
    "outputId": "70758108-d9e0-4002-aef1-9d31d212f574"
   },
   "outputs": [],
   "source": [
    "plt.figure(figsize=(20,5))\n",
    "sns.lineplot(x=work_df['tenure_months'], y=work_df['total_charges'], hue=df['contract'], ci=None, palette='viridis')"
   ]
  },
  {
   "cell_type": "code",
   "execution_count": null,
   "id": "b324a32c",
   "metadata": {
    "colab": {
     "base_uri": "https://localhost:8080/",
     "height": 353
    },
    "id": "b324a32c",
    "outputId": "51a49ad9-9388-4022-d164-7b887905760c"
   },
   "outputs": [],
   "source": [
    "plt.figure(figsize=(20,5))\n",
    "sns.lineplot(x=df['tenure_months'], y=df['monthly_charges'], hue=df['churn_value'], ci=None, palette='viridis')"
   ]
  },
  {
   "cell_type": "code",
   "execution_count": null,
   "id": "dbe5a6a8",
   "metadata": {
    "colab": {
     "base_uri": "https://localhost:8080/",
     "height": 811
    },
    "id": "dbe5a6a8",
    "outputId": "0f2d5a16-9e68-450d-8d7e-866a5f2ba596"
   },
   "outputs": [],
   "source": [
    "def heatmap_graph(corr, chart_title, mask_uppertri=False ):\n",
    "    mask = np.zeros_like(corr)\n",
    "    mask[np.triu_indices_from(mask)] = mask_uppertri\n",
    "    fig,ax = plt.subplots(figsize=(12,12))\n",
    "    sns.heatmap(corr\n",
    "                , mask = mask\n",
    "                , square = True\n",
    "                , annot = True\n",
    "                , annot_kws={'size': 7, 'weight' : 'bold'}\n",
    "                , cmap=plt.get_cmap(\"YlOrBr\")\n",
    "                , linewidths=.1)\n",
    "    plt.title(chart_title, fontsize=14)\n",
    "    plt.show()\n",
    "# var_corr = round(work_df.corr(),2)\n",
    "spearman_corr = work_df.corr(method='spearman')\n",
    "heatmap_graph(spearman_corr\n",
    "                       ,chart_title = 'Correlation Heatmap'\n",
    "                       ,mask_uppertri = True)"
   ]
  },
  {
   "cell_type": "code",
   "execution_count": null,
   "id": "cc01cda5",
   "metadata": {
    "colab": {
     "base_uri": "https://localhost:8080/",
     "height": 540
    },
    "id": "cc01cda5",
    "outputId": "60668ace-68d8-467b-ea0e-4539ad06c101"
   },
   "outputs": [],
   "source": [
    "from sklearn.decomposition import PCA\n",
    "from sklearn.preprocessing import StandardScaler\n",
    "\n",
    "col_list = [ 'gender', 'senior_citizen', 'partner',\n",
    "       'dependents', 'tenure_months', 'phone_service', 'multiple_lines',\n",
    "       'internet_service', 'online_security', 'online_backup',\n",
    "       'device_protection', 'tech_support', 'streaming_tv', 'streaming_movies',\n",
    "       'contract', 'paperless_billing', 'payment_method', 'monthly_charges',\n",
    "       'total_charges']\n",
    "data_pca=work_df[col_list]\n",
    "scaler = StandardScaler()\n",
    "data_scaled_pca = scaler.fit_transform(data_pca)\n",
    "\n",
    "# Perform PCA\n",
    "pca = PCA()\n",
    "pca.fit(data_scaled_pca)\n",
    "\n",
    "# Explained variance ratio\n",
    "explained_variance = pca.explained_variance_ratio_\n",
    "cumulative_variance = np.cumsum(explained_variance)\n",
    "print(cumulative_variance)\n",
    "plt.bar(range(1, len(explained_variance) + 1), explained_variance, label='Explained Variance')\n",
    "plt.plot(range(1, len(explained_variance) + 1), cumulative_variance, marker='o', label='Cumulative Variance')\n",
    "plt.xlabel('Principal Component')\n",
    "plt.ylabel('Explained Variance / Cumulative Variance')\n",
    "plt.title('Scree Plot with Cumulative Variance')\n",
    "plt.legend()\n",
    "plt.show()"
   ]
  },
  {
   "cell_type": "code",
   "execution_count": null,
   "id": "b0e5dc4d",
   "metadata": {
    "id": "b0e5dc4d"
   },
   "outputs": [],
   "source": [
    "import numpy as np\n",
    "from sklearn.metrics import mean_squared_error, confusion_matrix,classification_report\n",
    "from sklearn.metrics import average_precision_score, roc_auc_score, roc_curve, auc\n",
    "from sklearn.metrics import accuracy_score, f1_score, recall_score, precision_score\n",
    "\n",
    "def model(method, x_train, y_train, x_test, y_test,md):\n",
    "    # Training\n",
    "    method.fit(x_train, y_train)\n",
    "    # Predictions\n",
    "    predictions = method.predict(x_test)\n",
    "    rmse = np.sqrt(mean_squared_error(y_test, predictions))\n",
    "    c_matrix = confusion_matrix(y_test, predictions)\n",
    "    percentages = (c_matrix / np.sum(c_matrix, axis=1)[:, np.newaxis]).round(2) * 100\n",
    "    labels = [[f\"{c_matrix[i, j]} ({percentages[i, j]:.2f}%)\" for j in range(c_matrix.shape[1])] for i in range(c_matrix.shape[0])]\n",
    "    labels = np.asarray(labels)\n",
    "    # Plot\n",
    "    sns.heatmap(c_matrix, annot=labels, fmt='', cmap='Blues')\n",
    "    plt.title('Confusion Matrix')\n",
    "    # Evaluate model performance\n",
    "    print(\"RMSE:\", rmse)\n",
    "    print(\"ROC AUC: \", '{:.2%}'.format(roc_auc_score(y_test, predictions)))\n",
    "    print(\"Model accuracy: \", '{:.2%}'.format(accuracy_score(y_test, predictions)))\n",
    "    print(f'Mean Absolute Error (MAE): {mean_absolute_error(y_test, predictions)}')\n",
    "    print(classification_report(y_test, predictions))\n",
    "    if md == 'lr':\n",
    "      coefficients = lr.coef_\n",
    "      feature_names = feature_data.columns\n",
    "      feature_coefficients = list(zip(feature_names, coefficients[0]))\n",
    "      feature_coefficients = sorted(feature_coefficients, key=lambda x: abs(x[1]), reverse=True)\n",
    "      for feature, coefficient in feature_coefficients:\n",
    "          print(f'{feature}: {coefficient:.4f}')\n",
    "    return method\n"
   ]
  },
  {
   "cell_type": "code",
   "execution_count": null,
   "id": "aa00816c",
   "metadata": {
    "colab": {
     "base_uri": "https://localhost:8080/",
     "height": 338
    },
    "id": "aa00816c",
    "outputId": "9a0093b7-ac3d-4515-9509-f03fc8b56c13"
   },
   "outputs": [],
   "source": [
    "from imblearn.over_sampling import SMOTE\n",
    "work_df.head()"
   ]
  },
  {
   "cell_type": "code",
   "execution_count": null,
   "id": "JKSRcSiBKxqe",
   "metadata": {
    "colab": {
     "base_uri": "https://localhost:8080/"
    },
    "id": "JKSRcSiBKxqe",
    "outputId": "53ed108f-e8a1-4a6c-a6af-6277d5b75fb4"
   },
   "outputs": [],
   "source": [
    "total_df['Churn Label'].unique()"
   ]
  },
  {
   "cell_type": "code",
   "execution_count": null,
   "id": "68b569f1",
   "metadata": {
    "id": "68b569f1"
   },
   "outputs": [],
   "source": [
    "\n",
    "\n",
    "# feature_data = work_df[['gender',\n",
    "#        'senior_citizen', 'partner', 'dependents', 'tenure_months',\n",
    "#        'phone_service', 'multiple_lines', 'internet_service',\n",
    "#        'online_security', 'online_backup', 'device_protection', 'tech_support',\n",
    "#        'streaming_tv', 'streaming_movies', 'contract', 'paperless_billing',\n",
    "#        'payment_method', 'monthly_charges', 'total_charges']]\n",
    "feature_data = work_df[['gender','senior_citizen', 'tenure_months',\n",
    "'phone_service', 'multiple_lines', 'internet_service','online_security',\n",
    "             'online_backup', 'tech_support',\n",
    "'streaming_tv', 'streaming_movies', 'monthly_charges', 'total_charges']]\n",
    "\n",
    "x = feature_data.values\n",
    "y = work_df['churn_label'].values\n",
    "\n",
    "\n"
   ]
  },
  {
   "cell_type": "code",
   "execution_count": null,
   "id": "HiUHWMS6Lwkp",
   "metadata": {
    "colab": {
     "base_uri": "https://localhost:8080/"
    },
    "id": "HiUHWMS6Lwkp",
    "outputId": "f784dfda-6e47-4016-91f1-e01e20f687af"
   },
   "outputs": [],
   "source": [
    "len(work_df)"
   ]
  },
  {
   "cell_type": "code",
   "execution_count": null,
   "id": "oMtQ6gaaiEGs",
   "metadata": {
    "colab": {
     "base_uri": "https://localhost:8080/"
    },
    "id": "oMtQ6gaaiEGs",
    "outputId": "ce38de6e-7e37-489b-ea67-7b7c0dbbd99e"
   },
   "outputs": [],
   "source": [
    "work_df['churn_label'].value_counts()"
   ]
  },
  {
   "cell_type": "code",
   "execution_count": null,
   "id": "ce207389",
   "metadata": {
    "id": "ce207389"
   },
   "outputs": [],
   "source": [
    "balancing = SMOTE(sampling_strategy = 1)\n",
    "x,y = balancing.fit_resample(x,y)"
   ]
  },
  {
   "cell_type": "code",
   "execution_count": null,
   "id": "p7EfzJEvh6kr",
   "metadata": {
    "colab": {
     "base_uri": "https://localhost:8080/"
    },
    "id": "p7EfzJEvh6kr",
    "outputId": "46c5a16a-7f9a-4a6a-9bc3-18c3538cf189"
   },
   "outputs": [],
   "source": [
    "print('length of dataset:',len(x))\n",
    "labels, counts = np.unique(y, return_counts=True)\n",
    "for label, count in zip(labels, counts):\n",
    "    print(f'Value {label}: Count {count}')"
   ]
  },
  {
   "cell_type": "code",
   "execution_count": null,
   "id": "08824009",
   "metadata": {
    "id": "08824009"
   },
   "outputs": [],
   "source": [
    "from sklearn.model_selection import train_test_split\n",
    "x_train, x_test, y_train, y_test = train_test_split(x, y, random_state =2, test_size = 0.2)"
   ]
  },
  {
   "cell_type": "code",
   "execution_count": null,
   "id": "8sjJbTlAJOX0",
   "metadata": {
    "id": "8sjJbTlAJOX0"
   },
   "outputs": [],
   "source": [
    "from xgboost import XGBClassifier\n",
    "from sklearn.ensemble import RandomForestClassifier\n",
    "from sklearn.tree import DecisionTreeClassifier\n",
    "from sklearn.naive_bayes import GaussianNB\n",
    "from sklearn.linear_model import LogisticRegression\n",
    "from sklearn.metrics import mean_absolute_error, mean_squared_error\n",
    "from sklearn.ensemble import GradientBoostingRegressor\n",
    "from sklearn.model_selection import train_test_split\n",
    "from sklearn.svm import SVC\n",
    "from sklearn.metrics import accuracy_score"
   ]
  },
  {
   "cell_type": "code",
   "execution_count": null,
   "id": "ae8cb92e",
   "metadata": {
    "id": "ae8cb92e"
   },
   "outputs": [],
   "source": [
    "xgb = XGBClassifier(learning_rate= 0.01,max_depth = 6,n_estimators = 1000)\n",
    "rf = RandomForestClassifier()\n",
    "dt = DecisionTreeClassifier(max_depth=15)\n",
    "gnb = GaussianNB()"
   ]
  },
  {
   "cell_type": "code",
   "execution_count": null,
   "id": "Tb2dugfyJmuH",
   "metadata": {
    "colab": {
     "base_uri": "https://localhost:8080/",
     "height": 673
    },
    "id": "Tb2dugfyJmuH",
    "outputId": "9b8c525d-f0e6-4201-b7b4-81409e999329"
   },
   "outputs": [],
   "source": [
    "xgb_t = model(xgb,x_train,y_train,x_test,y_test,'xgb')"
   ]
  },
  {
   "cell_type": "code",
   "execution_count": null,
   "id": "5Da0CtxdY_96",
   "metadata": {
    "colab": {
     "base_uri": "https://localhost:8080/",
     "height": 830
    },
    "id": "5Da0CtxdY_96",
    "outputId": "d0bed2cf-ab08-4b75-9f94-7d5c76512092"
   },
   "outputs": [],
   "source": [
    "feature_importance = xgb_t.feature_importances_\n",
    "feature_names = feature_data.columns\n",
    "feature_importance_df = pd.DataFrame({'Feature': feature_names, 'Importance': feature_importance})\n",
    "feature_importance_df = feature_importance_df.sort_values(by='Importance', ascending=False)\n",
    "print(feature_importance_df)\n",
    "#Plot\n",
    "plt.figure(figsize=(10, 6))\n",
    "plt.bar(feature_importance_df['Feature'], feature_importance_df['Importance'])\n",
    "plt.xticks(rotation=45, ha='right')\n",
    "plt.xlabel('Feature')\n",
    "plt.ylabel('Importance')\n",
    "plt.title('Feature Importance')\n",
    "plt.show()\n"
   ]
  },
  {
   "cell_type": "code",
   "execution_count": null,
   "id": "zlHunETMNG5K",
   "metadata": {
    "colab": {
     "base_uri": "https://localhost:8080/",
     "height": 673
    },
    "id": "zlHunETMNG5K",
    "outputId": "fc69d438-c3dc-4cdc-fc74-a0e690c78431"
   },
   "outputs": [],
   "source": [
    "rf_t = model(rf,x_train,y_train,x_test,y_test,'rf')"
   ]
  },
  {
   "cell_type": "code",
   "execution_count": null,
   "id": "80mHpD2Ra2wq",
   "metadata": {
    "colab": {
     "base_uri": "https://localhost:8080/",
     "height": 824
    },
    "id": "80mHpD2Ra2wq",
    "outputId": "5840237b-b5bf-4359-a7af-bc8d37627965"
   },
   "outputs": [],
   "source": [
    "feature_importance = rf_t.feature_importances_\n",
    "feature_names = feature_data.columns\n",
    "feature_importance_df = pd.DataFrame({'Feature': feature_names, 'Importance': feature_importance})\n",
    "feature_importance_df = feature_importance_df.sort_values(by='Importance', ascending=False)\n",
    "print(feature_importance_df)\n",
    "#Plot\n",
    "plt.figure(figsize=(10, 6))\n",
    "plt.bar(feature_importance_df['Feature'], feature_importance_df['Importance'])\n",
    "plt.xticks(rotation=45, ha='right')\n",
    "plt.xlabel('Feature')\n",
    "plt.ylabel('Importance')\n",
    "plt.title('Feature Importance')\n",
    "plt.show()\n"
   ]
  },
  {
   "cell_type": "code",
   "execution_count": null,
   "id": "_pShlQGcNSxp",
   "metadata": {
    "colab": {
     "base_uri": "https://localhost:8080/",
     "height": 673
    },
    "id": "_pShlQGcNSxp",
    "outputId": "40367d70-b76c-4602-b239-513e5b4c6542"
   },
   "outputs": [],
   "source": [
    "dt_t = model(dt,x_train,y_train,x_test,y_test,'dt')"
   ]
  },
  {
   "cell_type": "code",
   "execution_count": null,
   "id": "iO0NxoD0bdSj",
   "metadata": {
    "colab": {
     "base_uri": "https://localhost:8080/",
     "height": 830
    },
    "id": "iO0NxoD0bdSj",
    "outputId": "5ac2c641-e26c-43a6-f2e7-08240778da09"
   },
   "outputs": [],
   "source": [
    "feature_importance = dt_t.feature_importances_\n",
    "feature_names = feature_data.columns\n",
    "feature_importance_df = pd.DataFrame({'Feature': feature_names, 'Importance': feature_importance})\n",
    "\n",
    "feature_importance_df = feature_importance_df.sort_values(by='Importance', ascending=False)\n",
    "\n",
    "print(feature_importance_df)\n",
    "#Plot\n",
    "plt.figure(figsize=(10, 6))\n",
    "plt.bar(feature_importance_df['Feature'], feature_importance_df['Importance'])\n",
    "plt.xticks(rotation=45, ha='right')\n",
    "plt.xlabel('Feature')\n",
    "plt.ylabel('Importance')\n",
    "plt.title('Feature Importance')\n",
    "plt.show()"
   ]
  },
  {
   "cell_type": "code",
   "execution_count": null,
   "id": "NpacSaJ3vVdm",
   "metadata": {
    "colab": {
     "base_uri": "https://localhost:8080/",
     "height": 673
    },
    "id": "NpacSaJ3vVdm",
    "outputId": "edfb2fd5-a593-429d-cdcc-0a1e58883784"
   },
   "outputs": [],
   "source": [
    "gnb_t = model(gnb,x_train,y_train,x_test,y_test,'gnb')"
   ]
  },
  {
   "cell_type": "code",
   "execution_count": null,
   "id": "QHMiTtu_s8a6",
   "metadata": {
    "colab": {
     "base_uri": "https://localhost:8080/"
    },
    "id": "QHMiTtu_s8a6",
    "outputId": "27e11685-ce02-4378-f7a9-ef1a09529da3"
   },
   "outputs": [],
   "source": [
    "class_means = pd.DataFrame(gnb_t.theta_, columns=feature_data.columns)\n",
    "print(\"Class Means:\")\n",
    "print(class_means.transpose())\n"
   ]
  },
  {
   "cell_type": "code",
   "execution_count": null,
   "id": "o0qu-A7JvbEV",
   "metadata": {
    "colab": {
     "base_uri": "https://localhost:8080/"
    },
    "id": "o0qu-A7JvbEV",
    "outputId": "344fca45-dec0-4d45-afed-f865c3cc0f02"
   },
   "outputs": [],
   "source": [
    "class_variances = []\n",
    "for class_label in np.unique(y_train):\n",
    "    X_class = x_train[y_train == class_label]\n",
    "    variances = np.sqrt(np.var(X_class, axis=0))\n",
    "    class_variances.append(variances)\n",
    "\n",
    "print(\"Class Standard Deviations:\")\n",
    "df_var = pd.DataFrame(class_variances, columns=feature_data.columns).transpose()\n",
    "print(df_var.round(2))"
   ]
  },
  {
   "cell_type": "code",
   "execution_count": null,
   "id": "evE_kbPTyKdB",
   "metadata": {
    "colab": {
     "base_uri": "https://localhost:8080/",
     "height": 894
    },
    "id": "evE_kbPTyKdB",
    "outputId": "318899e3-67c9-4d2c-bbae-79353a84208c"
   },
   "outputs": [],
   "source": [
    "lr = LogisticRegression()\n",
    "lr_t = model(lr,x_train,y_train,x_test,y_test,'lr')"
   ]
  },
  {
   "cell_type": "code",
   "execution_count": null,
   "id": "5QEWuiDhgnAz",
   "metadata": {
    "colab": {
     "base_uri": "https://localhost:8080/",
     "height": 822
    },
    "id": "5QEWuiDhgnAz",
    "outputId": "7eaba6b8-169b-403c-e4e6-7d493fe5cb70"
   },
   "outputs": [],
   "source": [
    "feature_importance = lr_t.coef_[0]\n",
    "feature_names = feature_data.columns\n",
    "feature_importance_df = pd.DataFrame({'Feature': feature_names, 'Importance': feature_importance})\n",
    "feature_importance_df = feature_importance_df.sort_values(by='Importance', ascending=False)\n",
    "print(feature_importance_df)\n",
    "#Plot\n",
    "plt.figure(figsize=(10, 6))\n",
    "plt.bar(feature_importance_df['Feature'], feature_importance_df['Importance'])\n",
    "plt.xticks(rotation=45, ha='right')\n",
    "plt.xlabel('Feature')\n",
    "plt.ylabel('Importance')\n",
    "plt.title('Feature Importance')\n",
    "plt.show()\n"
   ]
  },
  {
   "cell_type": "code",
   "execution_count": null,
   "id": "twSj2eZZaNyF",
   "metadata": {
    "colab": {
     "base_uri": "https://localhost:8080/"
    },
    "id": "twSj2eZZaNyF",
    "outputId": "3f4acdaa-2fca-4303-fc87-79ff21cf47e0"
   },
   "outputs": [],
   "source": [
    "x_train.shape"
   ]
  },
  {
   "cell_type": "code",
   "execution_count": null,
   "id": "BsExBvu32wT4",
   "metadata": {
    "id": "BsExBvu32wT4"
   },
   "outputs": [],
   "source": [
    "svc_linear = SVC(kernel='linear')"
   ]
  },
  {
   "cell_type": "code",
   "execution_count": null,
   "id": "9HT5ig1I2zuL",
   "metadata": {
    "id": "9HT5ig1I2zuL"
   },
   "outputs": [],
   "source": [
    "model(svc_linear,x_train,y_train,x_test,y_test,'svc_linear')"
   ]
  },
  {
   "cell_type": "code",
   "execution_count": null,
   "id": "4v5uYw955E6Y",
   "metadata": {
    "id": "4v5uYw955E6Y"
   },
   "outputs": [],
   "source": [
    "rbf_svm = SVC(kernel='rbf', gamma=0.1)"
   ]
  },
  {
   "cell_type": "code",
   "execution_count": null,
   "id": "XHqDIPHP5HsE",
   "metadata": {
    "id": "XHqDIPHP5HsE"
   },
   "outputs": [],
   "source": [
    "model(rbf_svm,x_train,y_train,x_test,y_test,'rbf_svm')"
   ]
  },
  {
   "cell_type": "code",
   "execution_count": null,
   "id": "YsdsgoSddgGo",
   "metadata": {
    "id": "YsdsgoSddgGo"
   },
   "outputs": [],
   "source": [
    "5890/7032\n",
    "# 1142"
   ]
  }
 ],
 "metadata": {
  "colab": {
   "provenance": []
  },
  "kernelspec": {
   "display_name": "Python 3 (ipykernel)",
   "language": "python",
   "name": "python3"
  },
  "language_info": {
   "codemirror_mode": {
    "name": "ipython",
    "version": 3
   },
   "file_extension": ".py",
   "mimetype": "text/x-python",
   "name": "python",
   "nbconvert_exporter": "python",
   "pygments_lexer": "ipython3",
   "version": "3.11.4"
  }
 },
 "nbformat": 4,
 "nbformat_minor": 5
}
